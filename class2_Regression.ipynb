{
 "cells": [
  {
   "cell_type": "markdown",
   "metadata": {},
   "source": [
    "## Первичный анализ данных"
   ]
  },
  {
   "cell_type": "markdown",
   "metadata": {},
   "source": [
    "На этом занятии мы попробуем задачу регрессии. Данные возьмем вот эти - https://www.kaggle.com/budincsevity/szeged-weather"
   ]
  },
  {
   "cell_type": "markdown",
   "metadata": {},
   "source": [
    "Прежде, чем переходить к обучению моделей, нужно найти\\собрать данные, загрузить их, почистить, удалить пропуски, предобработать, преобразовать в матрицы. Часто это занимает на порядок больше времени, чем само обучение"
   ]
  },
  {
   "cell_type": "code",
   "execution_count": 1,
   "metadata": {},
   "outputs": [],
   "source": [
    "# традиционная ячейка импортов\n",
    "import pandas as pd\n",
    "\n",
    "import seaborn as sns\n",
    "import matplotlib.pyplot as plt\n",
    "# %matplotlib inline"
   ]
  },
  {
   "cell_type": "code",
   "execution_count": 2,
   "metadata": {},
   "outputs": [],
   "source": [
    "weather = pd.read_csv('weather.csv')"
   ]
  },
  {
   "cell_type": "markdown",
   "metadata": {},
   "source": [
    "Первым делом стоит посмотреть на размер датасета"
   ]
  },
  {
   "cell_type": "code",
   "execution_count": 3,
   "metadata": {},
   "outputs": [
    {
     "data": {
      "text/plain": [
       "(96453, 12)"
      ]
     },
     "execution_count": 3,
     "metadata": {},
     "output_type": "execute_result"
    }
   ],
   "source": [
    "weather.shape\n",
    "# (#строчек, #колонок)"
   ]
  },
  {
   "cell_type": "markdown",
   "metadata": {},
   "source": [
    "Чтобы взглянуть на данные можно вывести несколько первых строчек."
   ]
  },
  {
   "cell_type": "code",
   "execution_count": 4,
   "metadata": {},
   "outputs": [
    {
     "data": {
      "text/html": [
       "<div>\n",
       "<style scoped>\n",
       "    .dataframe tbody tr th:only-of-type {\n",
       "        vertical-align: middle;\n",
       "    }\n",
       "\n",
       "    .dataframe tbody tr th {\n",
       "        vertical-align: top;\n",
       "    }\n",
       "\n",
       "    .dataframe thead th {\n",
       "        text-align: right;\n",
       "    }\n",
       "</style>\n",
       "<table border=\"1\" class=\"dataframe\">\n",
       "  <thead>\n",
       "    <tr style=\"text-align: right;\">\n",
       "      <th></th>\n",
       "      <th>Formatted Date</th>\n",
       "      <th>Summary</th>\n",
       "      <th>Precip Type</th>\n",
       "      <th>Temperature (C)</th>\n",
       "      <th>Apparent Temperature (C)</th>\n",
       "      <th>Humidity</th>\n",
       "      <th>Wind Speed (km/h)</th>\n",
       "      <th>Wind Bearing (degrees)</th>\n",
       "      <th>Visibility (km)</th>\n",
       "      <th>Loud Cover</th>\n",
       "      <th>Pressure (millibars)</th>\n",
       "      <th>Daily Summary</th>\n",
       "    </tr>\n",
       "  </thead>\n",
       "  <tbody>\n",
       "    <tr>\n",
       "      <th>96448</th>\n",
       "      <td>2016-09-09 19:00:00.000 +0200</td>\n",
       "      <td>Partly Cloudy</td>\n",
       "      <td>rain</td>\n",
       "      <td>26.016667</td>\n",
       "      <td>26.016667</td>\n",
       "      <td>0.43</td>\n",
       "      <td>10.9963</td>\n",
       "      <td>31.0</td>\n",
       "      <td>16.1000</td>\n",
       "      <td>0.0</td>\n",
       "      <td>1014.36</td>\n",
       "      <td>Partly cloudy starting in the morning.</td>\n",
       "    </tr>\n",
       "    <tr>\n",
       "      <th>96449</th>\n",
       "      <td>2016-09-09 20:00:00.000 +0200</td>\n",
       "      <td>Partly Cloudy</td>\n",
       "      <td>rain</td>\n",
       "      <td>24.583333</td>\n",
       "      <td>24.583333</td>\n",
       "      <td>0.48</td>\n",
       "      <td>10.0947</td>\n",
       "      <td>20.0</td>\n",
       "      <td>15.5526</td>\n",
       "      <td>0.0</td>\n",
       "      <td>1015.16</td>\n",
       "      <td>Partly cloudy starting in the morning.</td>\n",
       "    </tr>\n",
       "    <tr>\n",
       "      <th>96450</th>\n",
       "      <td>2016-09-09 21:00:00.000 +0200</td>\n",
       "      <td>Partly Cloudy</td>\n",
       "      <td>rain</td>\n",
       "      <td>22.038889</td>\n",
       "      <td>22.038889</td>\n",
       "      <td>0.56</td>\n",
       "      <td>8.9838</td>\n",
       "      <td>30.0</td>\n",
       "      <td>16.1000</td>\n",
       "      <td>0.0</td>\n",
       "      <td>1015.66</td>\n",
       "      <td>Partly cloudy starting in the morning.</td>\n",
       "    </tr>\n",
       "    <tr>\n",
       "      <th>96451</th>\n",
       "      <td>2016-09-09 22:00:00.000 +0200</td>\n",
       "      <td>Partly Cloudy</td>\n",
       "      <td>rain</td>\n",
       "      <td>21.522222</td>\n",
       "      <td>21.522222</td>\n",
       "      <td>0.60</td>\n",
       "      <td>10.5294</td>\n",
       "      <td>20.0</td>\n",
       "      <td>16.1000</td>\n",
       "      <td>0.0</td>\n",
       "      <td>1015.95</td>\n",
       "      <td>Partly cloudy starting in the morning.</td>\n",
       "    </tr>\n",
       "    <tr>\n",
       "      <th>96452</th>\n",
       "      <td>2016-09-09 23:00:00.000 +0200</td>\n",
       "      <td>Partly Cloudy</td>\n",
       "      <td>rain</td>\n",
       "      <td>20.438889</td>\n",
       "      <td>20.438889</td>\n",
       "      <td>0.61</td>\n",
       "      <td>5.8765</td>\n",
       "      <td>39.0</td>\n",
       "      <td>15.5204</td>\n",
       "      <td>0.0</td>\n",
       "      <td>1016.16</td>\n",
       "      <td>Partly cloudy starting in the morning.</td>\n",
       "    </tr>\n",
       "  </tbody>\n",
       "</table>\n",
       "</div>"
      ],
      "text/plain": [
       "                      Formatted Date        Summary Precip Type  \\\n",
       "96448  2016-09-09 19:00:00.000 +0200  Partly Cloudy        rain   \n",
       "96449  2016-09-09 20:00:00.000 +0200  Partly Cloudy        rain   \n",
       "96450  2016-09-09 21:00:00.000 +0200  Partly Cloudy        rain   \n",
       "96451  2016-09-09 22:00:00.000 +0200  Partly Cloudy        rain   \n",
       "96452  2016-09-09 23:00:00.000 +0200  Partly Cloudy        rain   \n",
       "\n",
       "       Temperature (C)  Apparent Temperature (C)  Humidity  Wind Speed (km/h)  \\\n",
       "96448        26.016667                 26.016667      0.43            10.9963   \n",
       "96449        24.583333                 24.583333      0.48            10.0947   \n",
       "96450        22.038889                 22.038889      0.56             8.9838   \n",
       "96451        21.522222                 21.522222      0.60            10.5294   \n",
       "96452        20.438889                 20.438889      0.61             5.8765   \n",
       "\n",
       "       Wind Bearing (degrees)  Visibility (km)  Loud Cover  \\\n",
       "96448                    31.0          16.1000         0.0   \n",
       "96449                    20.0          15.5526         0.0   \n",
       "96450                    30.0          16.1000         0.0   \n",
       "96451                    20.0          16.1000         0.0   \n",
       "96452                    39.0          15.5204         0.0   \n",
       "\n",
       "       Pressure (millibars)                           Daily Summary  \n",
       "96448               1014.36  Partly cloudy starting in the morning.  \n",
       "96449               1015.16  Partly cloudy starting in the morning.  \n",
       "96450               1015.66  Partly cloudy starting in the morning.  \n",
       "96451               1015.95  Partly cloudy starting in the morning.  \n",
       "96452               1016.16  Partly cloudy starting in the morning.  "
      ]
     },
     "execution_count": 4,
     "metadata": {},
     "output_type": "execute_result"
    }
   ],
   "source": [
    "weather.tail(5)"
   ]
  },
  {
   "cell_type": "code",
   "execution_count": null,
   "metadata": {},
   "outputs": [],
   "source": [
    "## По умолчанию Pandas выводит всего 20 столбцов и 60 строк, \n",
    "## поэтому если ваш датафрейм больше, воспользуйтесь функцией set_option\n",
    "pd.set_option('display.max_columns', 100)\n",
    "pd.set_option('display.max_rows', 100)"
   ]
  },
  {
   "cell_type": "markdown",
   "metadata": {},
   "source": [
    "Посмотреть все колонки датасета можно вот так"
   ]
  },
  {
   "cell_type": "code",
   "execution_count": null,
   "metadata": {},
   "outputs": [],
   "source": [
    "weather.columns"
   ]
  },
  {
   "cell_type": "markdown",
   "metadata": {},
   "source": [
    "Пробелы и скобочки в названиях немного смущают. Давайте сделаем названия короче и с маленькой буквы"
   ]
  },
  {
   "cell_type": "code",
   "execution_count": 5,
   "metadata": {},
   "outputs": [],
   "source": [
    "# можно переименовать колонки\n",
    "weather.rename({'Formatted Date':'date', 'Temperature (C)':'temp', 'Apparent Temperature (C)':'app_temp',\n",
    "                    'Precip Type':'precip', 'Wind Speed (km/h)':'wind_speed', 'Humidity':'humidity',\n",
    "                    'Daily Summary':'summary'}, \n",
    "                    axis=1, inplace=True)\n",
    "# последний аргумент  inplace=True позволяет пересохранять изменения сразу в датасете(без копирования объекта)\n",
    "\n"
   ]
  },
  {
   "cell_type": "markdown",
   "metadata": {},
   "source": [
    "а можно создать новую колонку и присвоить ей значение старой, а затем отбросить старую"
   ]
  },
  {
   "cell_type": "code",
   "execution_count": 6,
   "metadata": {},
   "outputs": [],
   "source": [
    "# альтернативный способ изменнния колонок\n",
    "weather['visibility'] = weather['Visibility (km)']\n",
    "weather['wind_bearing'] = weather['Wind Bearing (degrees)']\n",
    "weather['pressure'] = weather['Pressure (millibars)']\n",
    "\n",
    "weather.drop(['Visibility (km)', 'Wind Bearing (degrees)', 'Pressure (millibars)'], axis=1, inplace=True)"
   ]
  },
  {
   "cell_type": "code",
   "execution_count": null,
   "metadata": {},
   "outputs": [],
   "source": [
    "weather.head(5)"
   ]
  },
  {
   "cell_type": "markdown",
   "metadata": {},
   "source": [
    "В 5 строчках, на которые мы посмотрели в колонке Loud Cover одни нули. Давайте проверим, не бесполезная ли это колонка."
   ]
  },
  {
   "cell_type": "code",
   "execution_count": null,
   "metadata": {},
   "outputs": [],
   "source": [
    "# кроме нулей ничего нет\n",
    "weather['Loud Cover'].unique()"
   ]
  },
  {
   "cell_type": "markdown",
   "metadata": {},
   "source": [
    "Отбросим эту колонку"
   ]
  },
  {
   "cell_type": "code",
   "execution_count": 7,
   "metadata": {},
   "outputs": [],
   "source": [
    "weather.drop(['Loud Cover'], axis=1, inplace=True)"
   ]
  },
  {
   "cell_type": "code",
   "execution_count": null,
   "metadata": {},
   "outputs": [],
   "source": [
    "weather"
   ]
  },
  {
   "cell_type": "markdown",
   "metadata": {},
   "source": [
    "Можно посчитать статистики для отдельных колонок"
   ]
  },
  {
   "cell_type": "code",
   "execution_count": null,
   "metadata": {},
   "outputs": [],
   "source": [
    "weather['pressure'].mean(), weather['pressure'].std()"
   ]
  },
  {
   "cell_type": "code",
   "execution_count": null,
   "metadata": {},
   "outputs": [],
   "source": [
    "weather['app_temp'].min(), weather['app_temp'].max()"
   ]
  },
  {
   "cell_type": "markdown",
   "metadata": {},
   "source": [
    "Есть удобный метод ```.describe()```, которая собирает основные статистики для всех численных колонок."
   ]
  },
  {
   "cell_type": "code",
   "execution_count": 8,
   "metadata": {},
   "outputs": [
    {
     "data": {
      "text/html": [
       "<div>\n",
       "<style scoped>\n",
       "    .dataframe tbody tr th:only-of-type {\n",
       "        vertical-align: middle;\n",
       "    }\n",
       "\n",
       "    .dataframe tbody tr th {\n",
       "        vertical-align: top;\n",
       "    }\n",
       "\n",
       "    .dataframe thead th {\n",
       "        text-align: right;\n",
       "    }\n",
       "</style>\n",
       "<table border=\"1\" class=\"dataframe\">\n",
       "  <thead>\n",
       "    <tr style=\"text-align: right;\">\n",
       "      <th></th>\n",
       "      <th>temp</th>\n",
       "      <th>app_temp</th>\n",
       "      <th>humidity</th>\n",
       "      <th>wind_speed</th>\n",
       "      <th>visibility</th>\n",
       "      <th>wind_bearing</th>\n",
       "      <th>pressure</th>\n",
       "    </tr>\n",
       "  </thead>\n",
       "  <tbody>\n",
       "    <tr>\n",
       "      <th>count</th>\n",
       "      <td>96453.000000</td>\n",
       "      <td>96453.000000</td>\n",
       "      <td>96453.000000</td>\n",
       "      <td>96453.000000</td>\n",
       "      <td>96453.000000</td>\n",
       "      <td>96453.000000</td>\n",
       "      <td>96453.000000</td>\n",
       "    </tr>\n",
       "    <tr>\n",
       "      <th>mean</th>\n",
       "      <td>11.932678</td>\n",
       "      <td>10.855029</td>\n",
       "      <td>0.734899</td>\n",
       "      <td>10.810640</td>\n",
       "      <td>10.347325</td>\n",
       "      <td>187.509232</td>\n",
       "      <td>1003.235956</td>\n",
       "    </tr>\n",
       "    <tr>\n",
       "      <th>std</th>\n",
       "      <td>9.551546</td>\n",
       "      <td>10.696847</td>\n",
       "      <td>0.195473</td>\n",
       "      <td>6.913571</td>\n",
       "      <td>4.192123</td>\n",
       "      <td>107.383428</td>\n",
       "      <td>116.969906</td>\n",
       "    </tr>\n",
       "    <tr>\n",
       "      <th>min</th>\n",
       "      <td>-21.822222</td>\n",
       "      <td>-27.716667</td>\n",
       "      <td>0.000000</td>\n",
       "      <td>0.000000</td>\n",
       "      <td>0.000000</td>\n",
       "      <td>0.000000</td>\n",
       "      <td>0.000000</td>\n",
       "    </tr>\n",
       "    <tr>\n",
       "      <th>25%</th>\n",
       "      <td>4.688889</td>\n",
       "      <td>2.311111</td>\n",
       "      <td>0.600000</td>\n",
       "      <td>5.828200</td>\n",
       "      <td>8.339800</td>\n",
       "      <td>116.000000</td>\n",
       "      <td>1011.900000</td>\n",
       "    </tr>\n",
       "    <tr>\n",
       "      <th>50%</th>\n",
       "      <td>12.000000</td>\n",
       "      <td>12.000000</td>\n",
       "      <td>0.780000</td>\n",
       "      <td>9.965900</td>\n",
       "      <td>10.046400</td>\n",
       "      <td>180.000000</td>\n",
       "      <td>1016.450000</td>\n",
       "    </tr>\n",
       "    <tr>\n",
       "      <th>75%</th>\n",
       "      <td>18.838889</td>\n",
       "      <td>18.838889</td>\n",
       "      <td>0.890000</td>\n",
       "      <td>14.135800</td>\n",
       "      <td>14.812000</td>\n",
       "      <td>290.000000</td>\n",
       "      <td>1021.090000</td>\n",
       "    </tr>\n",
       "    <tr>\n",
       "      <th>max</th>\n",
       "      <td>39.905556</td>\n",
       "      <td>39.344444</td>\n",
       "      <td>1.000000</td>\n",
       "      <td>63.852600</td>\n",
       "      <td>16.100000</td>\n",
       "      <td>359.000000</td>\n",
       "      <td>1046.380000</td>\n",
       "    </tr>\n",
       "  </tbody>\n",
       "</table>\n",
       "</div>"
      ],
      "text/plain": [
       "               temp      app_temp      humidity    wind_speed    visibility  \\\n",
       "count  96453.000000  96453.000000  96453.000000  96453.000000  96453.000000   \n",
       "mean      11.932678     10.855029      0.734899     10.810640     10.347325   \n",
       "std        9.551546     10.696847      0.195473      6.913571      4.192123   \n",
       "min      -21.822222    -27.716667      0.000000      0.000000      0.000000   \n",
       "25%        4.688889      2.311111      0.600000      5.828200      8.339800   \n",
       "50%       12.000000     12.000000      0.780000      9.965900     10.046400   \n",
       "75%       18.838889     18.838889      0.890000     14.135800     14.812000   \n",
       "max       39.905556     39.344444      1.000000     63.852600     16.100000   \n",
       "\n",
       "       wind_bearing      pressure  \n",
       "count  96453.000000  96453.000000  \n",
       "mean     187.509232   1003.235956  \n",
       "std      107.383428    116.969906  \n",
       "min        0.000000      0.000000  \n",
       "25%      116.000000   1011.900000  \n",
       "50%      180.000000   1016.450000  \n",
       "75%      290.000000   1021.090000  \n",
       "max      359.000000   1046.380000  "
      ]
     },
     "execution_count": 8,
     "metadata": {},
     "output_type": "execute_result"
    }
   ],
   "source": [
    "weather.describe()"
   ]
  },
  {
   "cell_type": "code",
   "execution_count": null,
   "metadata": {},
   "outputs": [],
   "source": [
    "weather.info()"
   ]
  },
  {
   "cell_type": "markdown",
   "metadata": {},
   "source": [
    "**Из этих статистик уже можно сделать первоначальные выводы.** \n",
    "\n",
    "1) видно, что в оставшихся данных нет пропусков.   \n",
    "2) видно, что у колонок разные единицы измерения и соответствено значения разные (где-то от 0 до 1, где-то от -21 до 27)  \n",
    "3) temp и app_temp очень похожи, но если посмотреть на Min и Max, то можно сделать вывод, что ощущаемая температура *отличается в меньшую сторону*"
   ]
  },
  {
   "cell_type": "markdown",
   "metadata": {},
   "source": [
    "Чтобы посмотреть, как колонки связаны между собой, можно посчитать корреляцию."
   ]
  },
  {
   "cell_type": "code",
   "execution_count": 9,
   "metadata": {},
   "outputs": [
    {
     "data": {
      "text/html": [
       "<div>\n",
       "<style scoped>\n",
       "    .dataframe tbody tr th:only-of-type {\n",
       "        vertical-align: middle;\n",
       "    }\n",
       "\n",
       "    .dataframe tbody tr th {\n",
       "        vertical-align: top;\n",
       "    }\n",
       "\n",
       "    .dataframe thead th {\n",
       "        text-align: right;\n",
       "    }\n",
       "</style>\n",
       "<table border=\"1\" class=\"dataframe\">\n",
       "  <thead>\n",
       "    <tr style=\"text-align: right;\">\n",
       "      <th></th>\n",
       "      <th>temp</th>\n",
       "      <th>app_temp</th>\n",
       "      <th>humidity</th>\n",
       "      <th>wind_speed</th>\n",
       "      <th>visibility</th>\n",
       "      <th>wind_bearing</th>\n",
       "      <th>pressure</th>\n",
       "    </tr>\n",
       "  </thead>\n",
       "  <tbody>\n",
       "    <tr>\n",
       "      <th>temp</th>\n",
       "      <td>1.000000</td>\n",
       "      <td>0.992629</td>\n",
       "      <td>-0.632255</td>\n",
       "      <td>0.008957</td>\n",
       "      <td>0.392847</td>\n",
       "      <td>0.029988</td>\n",
       "      <td>-0.005447</td>\n",
       "    </tr>\n",
       "    <tr>\n",
       "      <th>app_temp</th>\n",
       "      <td>0.992629</td>\n",
       "      <td>1.000000</td>\n",
       "      <td>-0.602571</td>\n",
       "      <td>-0.056650</td>\n",
       "      <td>0.381718</td>\n",
       "      <td>0.029031</td>\n",
       "      <td>-0.000219</td>\n",
       "    </tr>\n",
       "    <tr>\n",
       "      <th>humidity</th>\n",
       "      <td>-0.632255</td>\n",
       "      <td>-0.602571</td>\n",
       "      <td>1.000000</td>\n",
       "      <td>-0.224951</td>\n",
       "      <td>-0.369173</td>\n",
       "      <td>0.000735</td>\n",
       "      <td>0.005454</td>\n",
       "    </tr>\n",
       "    <tr>\n",
       "      <th>wind_speed</th>\n",
       "      <td>0.008957</td>\n",
       "      <td>-0.056650</td>\n",
       "      <td>-0.224951</td>\n",
       "      <td>1.000000</td>\n",
       "      <td>0.100749</td>\n",
       "      <td>0.103822</td>\n",
       "      <td>-0.049263</td>\n",
       "    </tr>\n",
       "    <tr>\n",
       "      <th>visibility</th>\n",
       "      <td>0.392847</td>\n",
       "      <td>0.381718</td>\n",
       "      <td>-0.369173</td>\n",
       "      <td>0.100749</td>\n",
       "      <td>1.000000</td>\n",
       "      <td>0.047594</td>\n",
       "      <td>0.059818</td>\n",
       "    </tr>\n",
       "    <tr>\n",
       "      <th>wind_bearing</th>\n",
       "      <td>0.029988</td>\n",
       "      <td>0.029031</td>\n",
       "      <td>0.000735</td>\n",
       "      <td>0.103822</td>\n",
       "      <td>0.047594</td>\n",
       "      <td>1.000000</td>\n",
       "      <td>-0.011651</td>\n",
       "    </tr>\n",
       "    <tr>\n",
       "      <th>pressure</th>\n",
       "      <td>-0.005447</td>\n",
       "      <td>-0.000219</td>\n",
       "      <td>0.005454</td>\n",
       "      <td>-0.049263</td>\n",
       "      <td>0.059818</td>\n",
       "      <td>-0.011651</td>\n",
       "      <td>1.000000</td>\n",
       "    </tr>\n",
       "  </tbody>\n",
       "</table>\n",
       "</div>"
      ],
      "text/plain": [
       "                  temp  app_temp  humidity  wind_speed  visibility  \\\n",
       "temp          1.000000  0.992629 -0.632255    0.008957    0.392847   \n",
       "app_temp      0.992629  1.000000 -0.602571   -0.056650    0.381718   \n",
       "humidity     -0.632255 -0.602571  1.000000   -0.224951   -0.369173   \n",
       "wind_speed    0.008957 -0.056650 -0.224951    1.000000    0.100749   \n",
       "visibility    0.392847  0.381718 -0.369173    0.100749    1.000000   \n",
       "wind_bearing  0.029988  0.029031  0.000735    0.103822    0.047594   \n",
       "pressure     -0.005447 -0.000219  0.005454   -0.049263    0.059818   \n",
       "\n",
       "              wind_bearing  pressure  \n",
       "temp              0.029988 -0.005447  \n",
       "app_temp          0.029031 -0.000219  \n",
       "humidity          0.000735  0.005454  \n",
       "wind_speed        0.103822 -0.049263  \n",
       "visibility        0.047594  0.059818  \n",
       "wind_bearing      1.000000 -0.011651  \n",
       "pressure         -0.011651  1.000000  "
      ]
     },
     "execution_count": 9,
     "metadata": {},
     "output_type": "execute_result"
    }
   ],
   "source": [
    "# метод corr считает корреляцию всех колонок со всеми (острожнее, если у вас большой датасет)\n",
    "weather.corr()"
   ]
  },
  {
   "cell_type": "markdown",
   "metadata": {},
   "source": [
    "Для наглядности можно нарисовать тепловую карту."
   ]
  },
  {
   "cell_type": "code",
   "execution_count": 10,
   "metadata": {},
   "outputs": [
    {
     "data": {
      "image/png": "[encoded data removed]",
      "text/plain": [
       "<Figure size 1080x504 with 2 Axes>"
      ]
     },
     "metadata": {
      "needs_background": "light"
     },
     "output_type": "display_data"
    }
   ],
   "source": [
    "fig, ax = plt.subplots(figsize=(15,7))\n",
    "\n",
    "sns.heatmap(data=weather.corr(), annot=True, cmap= \"rocket\") \n",
    "# дополнительные цветовые схемы https://seaborn.pydata.org/tutorial/color_palettes.html\n",
    "\n",
    "plt.title(\"Корреляция признаков\") # подпись графика\n",
    "plt.show()"
   ]
  },
  {
   "cell_type": "markdown",
   "metadata": {},
   "source": [
    "Из тепловой карты можно сделать вывод, что: \n",
    "- влажность негативно скоррелирована с температурой\n",
    "- скорость ветра не связана с температурой и связана с влажностью\n",
    "- видимость связана с влажностью и с температурой"
   ]
  },
  {
   "cell_type": "markdown",
   "metadata": {},
   "source": [
    "Ещё можно нарисовать boxplot (ящик с усами) для каждой из колонок, чтобы посмотреть, нет ли в данных выбросов:"
   ]
  },
  {
   "cell_type": "code",
   "execution_count": null,
   "metadata": {},
   "outputs": [],
   "source": [
    "ax = sns.boxplot(data=weather[['temp', 'app_temp']])"
   ]
  },
  {
   "cell_type": "code",
   "execution_count": null,
   "metadata": {},
   "outputs": [],
   "source": [
    "ax = sns.boxplot(data=weather['wind_speed'])"
   ]
  },
  {
   "cell_type": "code",
   "execution_count": null,
   "metadata": {},
   "outputs": [],
   "source": [
    "ax = sns.boxplot(data=weather['visibility'])"
   ]
  },
  {
   "cell_type": "code",
   "execution_count": null,
   "metadata": {},
   "outputs": [],
   "source": [
    "ax = sns.boxplot(data=weather['pressure'])"
   ]
  },
  {
   "cell_type": "markdown",
   "metadata": {},
   "source": [
    "Нулевым давление быть не может. Скорее всего это пропуск в данных. Посмотрим сколько таких 0."
   ]
  },
  {
   "cell_type": "code",
   "execution_count": null,
   "metadata": {
    "scrolled": true
   },
   "outputs": [],
   "source": [
    "weather['pressure'].value_counts()"
   ]
  },
  {
   "cell_type": "code",
   "execution_count": null,
   "metadata": {},
   "outputs": [],
   "source": [
    "weather['pressure'].nunique()"
   ]
  },
  {
   "cell_type": "code",
   "execution_count": null,
   "metadata": {},
   "outputs": [],
   "source": [
    "weather"
   ]
  },
  {
   "cell_type": "markdown",
   "metadata": {},
   "source": [
    "С такими нулями можно поступить двумя способами - просто выкинуть или заменить на какое-то более реальное значение (например, усредненное давление)."
   ]
  },
  {
   "cell_type": "code",
   "execution_count": null,
   "metadata": {},
   "outputs": [],
   "source": [
    "# weather = weather[weather['pressure'] > 100] # первый способ, убираем нежелательные строки"
   ]
  },
  {
   "cell_type": "code",
   "execution_count": null,
   "metadata": {},
   "outputs": [],
   "source": [
    "weather.loc[weather['pressure'] < 100, 'pressure'] = weather[weather['pressure'] > 100].mean()"
   ]
  },
  {
   "cell_type": "code",
   "execution_count": null,
   "metadata": {},
   "outputs": [],
   "source": [
    "weather.head()"
   ]
  },
  {
   "cell_type": "code",
   "execution_count": null,
   "metadata": {},
   "outputs": [],
   "source": [
    "weather.info()"
   ]
  },
  {
   "cell_type": "code",
   "execution_count": null,
   "metadata": {},
   "outputs": [],
   "source": [
    "ax = sns.boxplot(data=weather['pressure'])"
   ]
  },
  {
   "cell_type": "markdown",
   "metadata": {},
   "source": [
    "Теперь давайте подключим категориальные переменные: *(категориальнве данные = данные, которые невозможно упорядочить или сравнить)*\n",
    "\n",
    "Можно сгруппировать данные по значениям rain и snow и посчитать те же статистики внутри этих групп."
   ]
  },
  {
   "cell_type": "code",
   "execution_count": 11,
   "metadata": {
    "collapsed": true
   },
   "outputs": [
    {
     "data": {
      "text/plain": [
       "array(['Partly Cloudy', 'Mostly Cloudy', 'Overcast', 'Foggy',\n",
       "       'Breezy and Mostly Cloudy', 'Clear', 'Breezy and Partly Cloudy',\n",
       "       'Breezy and Overcast', 'Humid and Mostly Cloudy',\n",
       "       'Humid and Partly Cloudy', 'Windy and Foggy', 'Windy and Overcast',\n",
       "       'Breezy and Foggy', 'Windy and Partly Cloudy', 'Breezy',\n",
       "       'Dry and Partly Cloudy', 'Windy and Mostly Cloudy',\n",
       "       'Dangerously Windy and Partly Cloudy', 'Dry', 'Windy',\n",
       "       'Humid and Overcast', 'Light Rain', 'Drizzle', 'Windy and Dry',\n",
       "       'Dry and Mostly Cloudy', 'Breezy and Dry', 'Rain'], dtype=object)"
      ]
     },
     "execution_count": 11,
     "metadata": {},
     "output_type": "execute_result"
    }
   ],
   "source": [
    "weather.Summary.unique()"
   ]
  },
  {
   "cell_type": "markdown",
   "metadata": {},
   "source": [
    "Давайте преобразуем датафрейм, используя методы ```.groupby()```  и ```.agg()```\n",
    "\n",
    "(подробнее про методы: [groupby](https://pandas.pydata.org/pandas-docs/stable/reference/api/pandas.DataFrame.groupby.html) и [agg](https://pandas.pydata.org/pandas-docs/stable/reference/api/pandas.DataFrame.agg.html))"
   ]
  },
  {
   "cell_type": "code",
   "execution_count": 12,
   "metadata": {
    "collapsed": true
   },
   "outputs": [
    {
     "data": {
      "text/html": [
       "<div>\n",
       "<style scoped>\n",
       "    .dataframe tbody tr th:only-of-type {\n",
       "        vertical-align: middle;\n",
       "    }\n",
       "\n",
       "    .dataframe tbody tr th {\n",
       "        vertical-align: top;\n",
       "    }\n",
       "\n",
       "    .dataframe thead tr th {\n",
       "        text-align: left;\n",
       "    }\n",
       "\n",
       "    .dataframe thead tr:last-of-type th {\n",
       "        text-align: right;\n",
       "    }\n",
       "</style>\n",
       "<table border=\"1\" class=\"dataframe\">\n",
       "  <thead>\n",
       "    <tr>\n",
       "      <th></th>\n",
       "      <th>temp</th>\n",
       "      <th>app_temp</th>\n",
       "      <th>humidity</th>\n",
       "      <th>wind_speed</th>\n",
       "      <th>visibility</th>\n",
       "      <th>wind_bearing</th>\n",
       "      <th>pressure</th>\n",
       "    </tr>\n",
       "    <tr>\n",
       "      <th></th>\n",
       "      <th>mean</th>\n",
       "      <th>mean</th>\n",
       "      <th>mean</th>\n",
       "      <th>mean</th>\n",
       "      <th>mean</th>\n",
       "      <th>mean</th>\n",
       "      <th>mean</th>\n",
       "    </tr>\n",
       "    <tr>\n",
       "      <th>Summary</th>\n",
       "      <th></th>\n",
       "      <th></th>\n",
       "      <th></th>\n",
       "      <th></th>\n",
       "      <th></th>\n",
       "      <th></th>\n",
       "      <th></th>\n",
       "    </tr>\n",
       "  </thead>\n",
       "  <tbody>\n",
       "    <tr>\n",
       "      <th>Breezy</th>\n",
       "      <td>7.922016</td>\n",
       "      <td>3.387654</td>\n",
       "      <td>0.637778</td>\n",
       "      <td>32.143948</td>\n",
       "      <td>9.577115</td>\n",
       "      <td>233.018519</td>\n",
       "      <td>563.917593</td>\n",
       "    </tr>\n",
       "    <tr>\n",
       "      <th>Breezy and Dry</th>\n",
       "      <td>21.111111</td>\n",
       "      <td>21.111111</td>\n",
       "      <td>0.260000</td>\n",
       "      <td>33.810000</td>\n",
       "      <td>9.982000</td>\n",
       "      <td>240.000000</td>\n",
       "      <td>1021.600000</td>\n",
       "    </tr>\n",
       "    <tr>\n",
       "      <th>Breezy and Foggy</th>\n",
       "      <td>-0.510317</td>\n",
       "      <td>-7.403492</td>\n",
       "      <td>0.938571</td>\n",
       "      <td>33.477880</td>\n",
       "      <td>1.621960</td>\n",
       "      <td>160.628571</td>\n",
       "      <td>1008.934000</td>\n",
       "    </tr>\n",
       "    <tr>\n",
       "      <th>Breezy and Mostly Cloudy</th>\n",
       "      <td>11.093411</td>\n",
       "      <td>8.680588</td>\n",
       "      <td>0.637054</td>\n",
       "      <td>33.386345</td>\n",
       "      <td>11.478302</td>\n",
       "      <td>227.639535</td>\n",
       "      <td>1000.622984</td>\n",
       "    </tr>\n",
       "    <tr>\n",
       "      <th>Breezy and Overcast</th>\n",
       "      <td>7.241614</td>\n",
       "      <td>3.492235</td>\n",
       "      <td>0.763144</td>\n",
       "      <td>33.037566</td>\n",
       "      <td>11.067012</td>\n",
       "      <td>213.526515</td>\n",
       "      <td>1002.114924</td>\n",
       "    </tr>\n",
       "    <tr>\n",
       "      <th>Breezy and Partly Cloudy</th>\n",
       "      <td>12.492761</td>\n",
       "      <td>9.989349</td>\n",
       "      <td>0.545803</td>\n",
       "      <td>33.532796</td>\n",
       "      <td>11.326058</td>\n",
       "      <td>259.282383</td>\n",
       "      <td>996.398212</td>\n",
       "    </tr>\n",
       "    <tr>\n",
       "      <th>Clear</th>\n",
       "      <td>11.925109</td>\n",
       "      <td>11.040338</td>\n",
       "      <td>0.729708</td>\n",
       "      <td>8.141352</td>\n",
       "      <td>11.441788</td>\n",
       "      <td>179.180257</td>\n",
       "      <td>951.763532</td>\n",
       "    </tr>\n",
       "    <tr>\n",
       "      <th>Dangerously Windy and Partly Cloudy</th>\n",
       "      <td>8.944444</td>\n",
       "      <td>3.483333</td>\n",
       "      <td>0.490000</td>\n",
       "      <td>63.852600</td>\n",
       "      <td>11.447100</td>\n",
       "      <td>307.000000</td>\n",
       "      <td>1009.050000</td>\n",
       "    </tr>\n",
       "    <tr>\n",
       "      <th>Drizzle</th>\n",
       "      <td>10.847578</td>\n",
       "      <td>10.011681</td>\n",
       "      <td>0.867949</td>\n",
       "      <td>10.356428</td>\n",
       "      <td>8.069815</td>\n",
       "      <td>177.307692</td>\n",
       "      <td>1014.931538</td>\n",
       "    </tr>\n",
       "    <tr>\n",
       "      <th>Dry</th>\n",
       "      <td>29.083660</td>\n",
       "      <td>28.273529</td>\n",
       "      <td>0.230294</td>\n",
       "      <td>14.713979</td>\n",
       "      <td>10.250965</td>\n",
       "      <td>230.294118</td>\n",
       "      <td>1016.391765</td>\n",
       "    </tr>\n",
       "    <tr>\n",
       "      <th>Dry and Mostly Cloudy</th>\n",
       "      <td>26.838492</td>\n",
       "      <td>25.929365</td>\n",
       "      <td>0.242143</td>\n",
       "      <td>13.667750</td>\n",
       "      <td>10.115400</td>\n",
       "      <td>187.785714</td>\n",
       "      <td>1014.872143</td>\n",
       "    </tr>\n",
       "    <tr>\n",
       "      <th>Dry and Partly Cloudy</th>\n",
       "      <td>26.605749</td>\n",
       "      <td>25.982235</td>\n",
       "      <td>0.240814</td>\n",
       "      <td>12.304519</td>\n",
       "      <td>10.987501</td>\n",
       "      <td>224.465116</td>\n",
       "      <td>1017.242558</td>\n",
       "    </tr>\n",
       "    <tr>\n",
       "      <th>Foggy</th>\n",
       "      <td>1.464035</td>\n",
       "      <td>-0.210419</td>\n",
       "      <td>0.950765</td>\n",
       "      <td>7.171649</td>\n",
       "      <td>1.551411</td>\n",
       "      <td>168.668439</td>\n",
       "      <td>1007.475207</td>\n",
       "    </tr>\n",
       "    <tr>\n",
       "      <th>Humid and Mostly Cloudy</th>\n",
       "      <td>20.886389</td>\n",
       "      <td>20.886389</td>\n",
       "      <td>0.874250</td>\n",
       "      <td>10.058877</td>\n",
       "      <td>9.732852</td>\n",
       "      <td>153.425000</td>\n",
       "      <td>1012.887250</td>\n",
       "    </tr>\n",
       "    <tr>\n",
       "      <th>Humid and Overcast</th>\n",
       "      <td>21.515079</td>\n",
       "      <td>21.515079</td>\n",
       "      <td>0.881429</td>\n",
       "      <td>9.740500</td>\n",
       "      <td>9.052800</td>\n",
       "      <td>138.857143</td>\n",
       "      <td>1014.550000</td>\n",
       "    </tr>\n",
       "    <tr>\n",
       "      <th>Humid and Partly Cloudy</th>\n",
       "      <td>21.568301</td>\n",
       "      <td>21.568301</td>\n",
       "      <td>0.848824</td>\n",
       "      <td>9.938435</td>\n",
       "      <td>10.633576</td>\n",
       "      <td>201.647059</td>\n",
       "      <td>1011.974118</td>\n",
       "    </tr>\n",
       "    <tr>\n",
       "      <th>Light Rain</th>\n",
       "      <td>10.021517</td>\n",
       "      <td>8.560317</td>\n",
       "      <td>0.888095</td>\n",
       "      <td>14.673489</td>\n",
       "      <td>6.657989</td>\n",
       "      <td>180.761905</td>\n",
       "      <td>1011.054762</td>\n",
       "    </tr>\n",
       "    <tr>\n",
       "      <th>Mostly Cloudy</th>\n",
       "      <td>12.629334</td>\n",
       "      <td>11.624994</td>\n",
       "      <td>0.725069</td>\n",
       "      <td>11.418404</td>\n",
       "      <td>11.117234</td>\n",
       "      <td>192.049299</td>\n",
       "      <td>1010.840591</td>\n",
       "    </tr>\n",
       "    <tr>\n",
       "      <th>Overcast</th>\n",
       "      <td>7.516502</td>\n",
       "      <td>5.789636</td>\n",
       "      <td>0.837232</td>\n",
       "      <td>12.027738</td>\n",
       "      <td>9.275112</td>\n",
       "      <td>183.532747</td>\n",
       "      <td>1005.632402</td>\n",
       "    </tr>\n",
       "    <tr>\n",
       "      <th>Partly Cloudy</th>\n",
       "      <td>16.024782</td>\n",
       "      <td>15.394033</td>\n",
       "      <td>0.648571</td>\n",
       "      <td>10.115130</td>\n",
       "      <td>11.811517</td>\n",
       "      <td>190.161094</td>\n",
       "      <td>1013.079063</td>\n",
       "    </tr>\n",
       "    <tr>\n",
       "      <th>Rain</th>\n",
       "      <td>10.096111</td>\n",
       "      <td>9.607222</td>\n",
       "      <td>0.947000</td>\n",
       "      <td>5.797610</td>\n",
       "      <td>1.779050</td>\n",
       "      <td>211.800000</td>\n",
       "      <td>1017.318000</td>\n",
       "    </tr>\n",
       "    <tr>\n",
       "      <th>Windy</th>\n",
       "      <td>6.804861</td>\n",
       "      <td>2.009028</td>\n",
       "      <td>0.572500</td>\n",
       "      <td>42.165900</td>\n",
       "      <td>10.712537</td>\n",
       "      <td>319.750000</td>\n",
       "      <td>127.376250</td>\n",
       "    </tr>\n",
       "    <tr>\n",
       "      <th>Windy and Dry</th>\n",
       "      <td>27.222222</td>\n",
       "      <td>26.344444</td>\n",
       "      <td>0.240000</td>\n",
       "      <td>40.250000</td>\n",
       "      <td>9.982000</td>\n",
       "      <td>150.000000</td>\n",
       "      <td>1020.200000</td>\n",
       "    </tr>\n",
       "    <tr>\n",
       "      <th>Windy and Foggy</th>\n",
       "      <td>11.876389</td>\n",
       "      <td>9.769444</td>\n",
       "      <td>0.900000</td>\n",
       "      <td>44.178400</td>\n",
       "      <td>1.903825</td>\n",
       "      <td>155.000000</td>\n",
       "      <td>1011.975000</td>\n",
       "    </tr>\n",
       "    <tr>\n",
       "      <th>Windy and Mostly Cloudy</th>\n",
       "      <td>11.834603</td>\n",
       "      <td>9.754286</td>\n",
       "      <td>0.600000</td>\n",
       "      <td>43.117640</td>\n",
       "      <td>11.159600</td>\n",
       "      <td>261.428571</td>\n",
       "      <td>979.825143</td>\n",
       "    </tr>\n",
       "    <tr>\n",
       "      <th>Windy and Overcast</th>\n",
       "      <td>7.932963</td>\n",
       "      <td>3.696543</td>\n",
       "      <td>0.708667</td>\n",
       "      <td>43.378409</td>\n",
       "      <td>9.806331</td>\n",
       "      <td>244.311111</td>\n",
       "      <td>1006.446000</td>\n",
       "    </tr>\n",
       "    <tr>\n",
       "      <th>Windy and Partly Cloudy</th>\n",
       "      <td>9.968076</td>\n",
       "      <td>6.551244</td>\n",
       "      <td>0.528806</td>\n",
       "      <td>44.610937</td>\n",
       "      <td>11.484106</td>\n",
       "      <td>295.119403</td>\n",
       "      <td>953.291194</td>\n",
       "    </tr>\n",
       "  </tbody>\n",
       "</table>\n",
       "</div>"
      ],
      "text/plain": [
       "                                          temp   app_temp  humidity  \\\n",
       "                                          mean       mean      mean   \n",
       "Summary                                                               \n",
       "Breezy                                7.922016   3.387654  0.637778   \n",
       "Breezy and Dry                       21.111111  21.111111  0.260000   \n",
       "Breezy and Foggy                     -0.510317  -7.403492  0.938571   \n",
       "Breezy and Mostly Cloudy             11.093411   8.680588  0.637054   \n",
       "Breezy and Overcast                   7.241614   3.492235  0.763144   \n",
       "Breezy and Partly Cloudy             12.492761   9.989349  0.545803   \n",
       "Clear                                11.925109  11.040338  0.729708   \n",
       "Dangerously Windy and Partly Cloudy   8.944444   3.483333  0.490000   \n",
       "Drizzle                              10.847578  10.011681  0.867949   \n",
       "Dry                                  29.083660  28.273529  0.230294   \n",
       "Dry and Mostly Cloudy                26.838492  25.929365  0.242143   \n",
       "Dry and Partly Cloudy                26.605749  25.982235  0.240814   \n",
       "Foggy                                 1.464035  -0.210419  0.950765   \n",
       "Humid and Mostly Cloudy              20.886389  20.886389  0.874250   \n",
       "Humid and Overcast                   21.515079  21.515079  0.881429   \n",
       "Humid and Partly Cloudy              21.568301  21.568301  0.848824   \n",
       "Light Rain                           10.021517   8.560317  0.888095   \n",
       "Mostly Cloudy                        12.629334  11.624994  0.725069   \n",
       "Overcast                              7.516502   5.789636  0.837232   \n",
       "Partly Cloudy                        16.024782  15.394033  0.648571   \n",
       "Rain                                 10.096111   9.607222  0.947000   \n",
       "Windy                                 6.804861   2.009028  0.572500   \n",
       "Windy and Dry                        27.222222  26.344444  0.240000   \n",
       "Windy and Foggy                      11.876389   9.769444  0.900000   \n",
       "Windy and Mostly Cloudy              11.834603   9.754286  0.600000   \n",
       "Windy and Overcast                    7.932963   3.696543  0.708667   \n",
       "Windy and Partly Cloudy               9.968076   6.551244  0.528806   \n",
       "\n",
       "                                    wind_speed visibility wind_bearing  \\\n",
       "                                          mean       mean         mean   \n",
       "Summary                                                                  \n",
       "Breezy                               32.143948   9.577115   233.018519   \n",
       "Breezy and Dry                       33.810000   9.982000   240.000000   \n",
       "Breezy and Foggy                     33.477880   1.621960   160.628571   \n",
       "Breezy and Mostly Cloudy             33.386345  11.478302   227.639535   \n",
       "Breezy and Overcast                  33.037566  11.067012   213.526515   \n",
       "Breezy and Partly Cloudy             33.532796  11.326058   259.282383   \n",
       "Clear                                 8.141352  11.441788   179.180257   \n",
       "Dangerously Windy and Partly Cloudy  63.852600  11.447100   307.000000   \n",
       "Drizzle                              10.356428   8.069815   177.307692   \n",
       "Dry                                  14.713979  10.250965   230.294118   \n",
       "Dry and Mostly Cloudy                13.667750  10.115400   187.785714   \n",
       "Dry and Partly Cloudy                12.304519  10.987501   224.465116   \n",
       "Foggy                                 7.171649   1.551411   168.668439   \n",
       "Humid and Mostly Cloudy              10.058877   9.732852   153.425000   \n",
       "Humid and Overcast                    9.740500   9.052800   138.857143   \n",
       "Humid and Partly Cloudy               9.938435  10.633576   201.647059   \n",
       "Light Rain                           14.673489   6.657989   180.761905   \n",
       "Mostly Cloudy                        11.418404  11.117234   192.049299   \n",
       "Overcast                             12.027738   9.275112   183.532747   \n",
       "Partly Cloudy                        10.115130  11.811517   190.161094   \n",
       "Rain                                  5.797610   1.779050   211.800000   \n",
       "Windy                                42.165900  10.712537   319.750000   \n",
       "Windy and Dry                        40.250000   9.982000   150.000000   \n",
       "Windy and Foggy                      44.178400   1.903825   155.000000   \n",
       "Windy and Mostly Cloudy              43.117640  11.159600   261.428571   \n",
       "Windy and Overcast                   43.378409   9.806331   244.311111   \n",
       "Windy and Partly Cloudy              44.610937  11.484106   295.119403   \n",
       "\n",
       "                                        pressure  \n",
       "                                            mean  \n",
       "Summary                                           \n",
       "Breezy                                563.917593  \n",
       "Breezy and Dry                       1021.600000  \n",
       "Breezy and Foggy                     1008.934000  \n",
       "Breezy and Mostly Cloudy             1000.622984  \n",
       "Breezy and Overcast                  1002.114924  \n",
       "Breezy and Partly Cloudy              996.398212  \n",
       "Clear                                 951.763532  \n",
       "Dangerously Windy and Partly Cloudy  1009.050000  \n",
       "Drizzle                              1014.931538  \n",
       "Dry                                  1016.391765  \n",
       "Dry and Mostly Cloudy                1014.872143  \n",
       "Dry and Partly Cloudy                1017.242558  \n",
       "Foggy                                1007.475207  \n",
       "Humid and Mostly Cloudy              1012.887250  \n",
       "Humid and Overcast                   1014.550000  \n",
       "Humid and Partly Cloudy              1011.974118  \n",
       "Light Rain                           1011.054762  \n",
       "Mostly Cloudy                        1010.840591  \n",
       "Overcast                             1005.632402  \n",
       "Partly Cloudy                        1013.079063  \n",
       "Rain                                 1017.318000  \n",
       "Windy                                 127.376250  \n",
       "Windy and Dry                        1020.200000  \n",
       "Windy and Foggy                      1011.975000  \n",
       "Windy and Mostly Cloudy               979.825143  \n",
       "Windy and Overcast                   1006.446000  \n",
       "Windy and Partly Cloudy               953.291194  "
      ]
     },
     "execution_count": 12,
     "metadata": {},
     "output_type": "execute_result"
    }
   ],
   "source": [
    "weather.groupby('Summary').agg(['mean']) # попробуйте аггрегировать и по другим параметрам из weather.describe()"
   ]
  },
  {
   "cell_type": "markdown",
   "metadata": {},
   "source": [
    "## Регрессия"
   ]
  },
  {
   "cell_type": "markdown",
   "metadata": {},
   "source": [
    "Давайте теперь попробуем предсказывать данные для какой-то из колонок. Для простоты оставим только численные колонки. \n"
   ]
  },
  {
   "cell_type": "markdown",
   "metadata": {},
   "source": [
    "__добавить ячейки про то, что такое регрессия и как с ней жить__"
   ]
  },
  {
   "cell_type": "markdown",
   "metadata": {},
   "source": [
    "## Регрессия в sklearn"
   ]
  },
  {
   "cell_type": "code",
   "execution_count": 54,
   "metadata": {},
   "outputs": [
    {
     "data": {
      "text/html": [
       "<div>\n",
       "<style scoped>\n",
       "    .dataframe tbody tr th:only-of-type {\n",
       "        vertical-align: middle;\n",
       "    }\n",
       "\n",
       "    .dataframe tbody tr th {\n",
       "        vertical-align: top;\n",
       "    }\n",
       "\n",
       "    .dataframe thead th {\n",
       "        text-align: right;\n",
       "    }\n",
       "</style>\n",
       "<table border=\"1\" class=\"dataframe\">\n",
       "  <thead>\n",
       "    <tr style=\"text-align: right;\">\n",
       "      <th></th>\n",
       "      <th>temp</th>\n",
       "      <th>app_temp</th>\n",
       "      <th>humidity</th>\n",
       "      <th>wind_speed</th>\n",
       "      <th>visibility</th>\n",
       "    </tr>\n",
       "  </thead>\n",
       "  <tbody>\n",
       "    <tr>\n",
       "      <th>0</th>\n",
       "      <td>9.472222</td>\n",
       "      <td>7.388889</td>\n",
       "      <td>0.89</td>\n",
       "      <td>14.1197</td>\n",
       "      <td>15.8263</td>\n",
       "    </tr>\n",
       "    <tr>\n",
       "      <th>1</th>\n",
       "      <td>9.355556</td>\n",
       "      <td>7.227778</td>\n",
       "      <td>0.86</td>\n",
       "      <td>14.2646</td>\n",
       "      <td>15.8263</td>\n",
       "    </tr>\n",
       "    <tr>\n",
       "      <th>2</th>\n",
       "      <td>9.377778</td>\n",
       "      <td>9.377778</td>\n",
       "      <td>0.89</td>\n",
       "      <td>3.9284</td>\n",
       "      <td>14.9569</td>\n",
       "    </tr>\n",
       "  </tbody>\n",
       "</table>\n",
       "</div>"
      ],
      "text/plain": [
       "       temp  app_temp  humidity  wind_speed  visibility\n",
       "0  9.472222  7.388889      0.89     14.1197     15.8263\n",
       "1  9.355556  7.227778      0.86     14.2646     15.8263\n",
       "2  9.377778  9.377778      0.89      3.9284     14.9569"
      ]
     },
     "execution_count": 54,
     "metadata": {},
     "output_type": "execute_result"
    }
   ],
   "source": [
    "# можно переопределить датасет его частью\n",
    "\n",
    "weather = weather[['temp','app_temp', 'humidity', 'wind_speed', 'visibility']]\n",
    "\n",
    "weather.head(3)"
   ]
  },
  {
   "cell_type": "markdown",
   "metadata": {},
   "source": [
    "Попробуем несколько базовых регрессоров в sklearn."
   ]
  },
  {
   "cell_type": "code",
   "execution_count": 14,
   "metadata": {},
   "outputs": [],
   "source": [
    "# ! pip3 install sklearn\n",
    "\n",
    "from sklearn.linear_model import LinearRegression, Ridge, Lasso, ElasticNet\n",
    "# from sklearn.svm import LinearSVR"
   ]
  },
  {
   "cell_type": "markdown",
   "metadata": {},
   "source": [
    "а вот [объяснение разницы между ними](https://www.geeksforgeeks.org/lasso-vs-ridge-vs-elastic-net-ml/)\n",
    "\n",
    "Sklearn умееть работать с dataframe из pandas (если там только числа), но часто матрицу объекты-признаки и целевую переменную (то, что мы хотим предсказать) удобно вынести в отдельные переменные в виде numpy массива. \n",
    "\n",
    "Давайте предугадаем скорость ветра по остальным параметрам датафрейма. Тогда значения скорости ветра станут целевой переменной, а остальные параметры (температура, влажность, и тд) попадут в матрицу объекты-признаки"
   ]
  },
  {
   "cell_type": "code",
   "execution_count": 78,
   "metadata": {},
   "outputs": [
    {
     "data": {
      "text/plain": [
       "array([[ 9.47222222,  0.89      , 14.1197    , 15.8263    ],\n",
       "       [ 9.35555556,  0.86      , 14.2646    , 15.8263    ],\n",
       "       [ 9.37777778,  0.89      ,  3.9284    , 14.9569    ],\n",
       "       ...,\n",
       "       [22.03888889,  0.56      ,  8.9838    , 16.1       ],\n",
       "       [21.52222222,  0.6       , 10.5294    , 16.1       ],\n",
       "       [20.43888889,  0.61      ,  5.8765    , 15.5204    ]])"
      ]
     },
     "metadata": {},
     "output_type": "display_data"
    },
    {
     "data": {
      "text/plain": [
       "(96453, 4)"
      ]
     },
     "metadata": {},
     "output_type": "display_data"
    }
   ],
   "source": [
    "weather2 = weather.drop('app_temp', axis=1)\n",
    "X = weather2.values # выбросили из датафрейма информацию про ветер\n",
    "\n",
    "display(X, X.shape)"
   ]
  },
  {
   "cell_type": "code",
   "execution_count": 28,
   "metadata": {
    "collapsed": true
   },
   "outputs": [
    {
     "data": {
      "text/html": [
       "<div>\n",
       "<style scoped>\n",
       "    .dataframe tbody tr th:only-of-type {\n",
       "        vertical-align: middle;\n",
       "    }\n",
       "\n",
       "    .dataframe tbody tr th {\n",
       "        vertical-align: top;\n",
       "    }\n",
       "\n",
       "    .dataframe thead th {\n",
       "        text-align: right;\n",
       "    }\n",
       "</style>\n",
       "<table border=\"1\" class=\"dataframe\">\n",
       "  <thead>\n",
       "    <tr style=\"text-align: right;\">\n",
       "      <th></th>\n",
       "      <th>temp</th>\n",
       "      <th>app_temp</th>\n",
       "      <th>humidity</th>\n",
       "      <th>wind_speed</th>\n",
       "      <th>wind_bearing</th>\n",
       "      <th>visibility</th>\n",
       "    </tr>\n",
       "  </thead>\n",
       "  <tbody>\n",
       "    <tr>\n",
       "      <th>0</th>\n",
       "      <td>9.472222</td>\n",
       "      <td>7.388889</td>\n",
       "      <td>0.89</td>\n",
       "      <td>14.1197</td>\n",
       "      <td>251.0</td>\n",
       "      <td>15.8263</td>\n",
       "    </tr>\n",
       "    <tr>\n",
       "      <th>1</th>\n",
       "      <td>9.355556</td>\n",
       "      <td>7.227778</td>\n",
       "      <td>0.86</td>\n",
       "      <td>14.2646</td>\n",
       "      <td>259.0</td>\n",
       "      <td>15.8263</td>\n",
       "    </tr>\n",
       "    <tr>\n",
       "      <th>2</th>\n",
       "      <td>9.377778</td>\n",
       "      <td>9.377778</td>\n",
       "      <td>0.89</td>\n",
       "      <td>3.9284</td>\n",
       "      <td>204.0</td>\n",
       "      <td>14.9569</td>\n",
       "    </tr>\n",
       "    <tr>\n",
       "      <th>3</th>\n",
       "      <td>8.288889</td>\n",
       "      <td>5.944444</td>\n",
       "      <td>0.83</td>\n",
       "      <td>14.1036</td>\n",
       "      <td>269.0</td>\n",
       "      <td>15.8263</td>\n",
       "    </tr>\n",
       "    <tr>\n",
       "      <th>4</th>\n",
       "      <td>8.755556</td>\n",
       "      <td>6.977778</td>\n",
       "      <td>0.83</td>\n",
       "      <td>11.0446</td>\n",
       "      <td>259.0</td>\n",
       "      <td>15.8263</td>\n",
       "    </tr>\n",
       "    <tr>\n",
       "      <th>...</th>\n",
       "      <td>...</td>\n",
       "      <td>...</td>\n",
       "      <td>...</td>\n",
       "      <td>...</td>\n",
       "      <td>...</td>\n",
       "      <td>...</td>\n",
       "    </tr>\n",
       "    <tr>\n",
       "      <th>96448</th>\n",
       "      <td>26.016667</td>\n",
       "      <td>26.016667</td>\n",
       "      <td>0.43</td>\n",
       "      <td>10.9963</td>\n",
       "      <td>31.0</td>\n",
       "      <td>16.1000</td>\n",
       "    </tr>\n",
       "    <tr>\n",
       "      <th>96449</th>\n",
       "      <td>24.583333</td>\n",
       "      <td>24.583333</td>\n",
       "      <td>0.48</td>\n",
       "      <td>10.0947</td>\n",
       "      <td>20.0</td>\n",
       "      <td>15.5526</td>\n",
       "    </tr>\n",
       "    <tr>\n",
       "      <th>96450</th>\n",
       "      <td>22.038889</td>\n",
       "      <td>22.038889</td>\n",
       "      <td>0.56</td>\n",
       "      <td>8.9838</td>\n",
       "      <td>30.0</td>\n",
       "      <td>16.1000</td>\n",
       "    </tr>\n",
       "    <tr>\n",
       "      <th>96451</th>\n",
       "      <td>21.522222</td>\n",
       "      <td>21.522222</td>\n",
       "      <td>0.60</td>\n",
       "      <td>10.5294</td>\n",
       "      <td>20.0</td>\n",
       "      <td>16.1000</td>\n",
       "    </tr>\n",
       "    <tr>\n",
       "      <th>96452</th>\n",
       "      <td>20.438889</td>\n",
       "      <td>20.438889</td>\n",
       "      <td>0.61</td>\n",
       "      <td>5.8765</td>\n",
       "      <td>39.0</td>\n",
       "      <td>15.5204</td>\n",
       "    </tr>\n",
       "  </tbody>\n",
       "</table>\n",
       "<p>96453 rows × 6 columns</p>\n",
       "</div>"
      ],
      "text/plain": [
       "            temp   app_temp  humidity  wind_speed  wind_bearing  visibility\n",
       "0       9.472222   7.388889      0.89     14.1197         251.0     15.8263\n",
       "1       9.355556   7.227778      0.86     14.2646         259.0     15.8263\n",
       "2       9.377778   9.377778      0.89      3.9284         204.0     14.9569\n",
       "3       8.288889   5.944444      0.83     14.1036         269.0     15.8263\n",
       "4       8.755556   6.977778      0.83     11.0446         259.0     15.8263\n",
       "...          ...        ...       ...         ...           ...         ...\n",
       "96448  26.016667  26.016667      0.43     10.9963          31.0     16.1000\n",
       "96449  24.583333  24.583333      0.48     10.0947          20.0     15.5526\n",
       "96450  22.038889  22.038889      0.56      8.9838          30.0     16.1000\n",
       "96451  21.522222  21.522222      0.60     10.5294          20.0     16.1000\n",
       "96452  20.438889  20.438889      0.61      5.8765          39.0     15.5204\n",
       "\n",
       "[96453 rows x 6 columns]"
      ]
     },
     "execution_count": 28,
     "metadata": {},
     "output_type": "execute_result"
    }
   ],
   "source": [
    "weather"
   ]
  },
  {
   "cell_type": "code",
   "execution_count": 79,
   "metadata": {},
   "outputs": [
    {
     "data": {
      "text/plain": [
       "array([ 7.38888889,  7.22777778,  9.37777778, ..., 22.03888889,\n",
       "       21.52222222, 20.43888889])"
      ]
     },
     "metadata": {},
     "output_type": "display_data"
    },
    {
     "data": {
      "text/plain": [
       "(96453,)"
      ]
     },
     "metadata": {},
     "output_type": "display_data"
    }
   ],
   "source": [
    "y = weather['app_temp'].values # отдельно вынесли массив со значениями скорости ветра\n",
    "display(y, y.shape)"
   ]
  },
  {
   "cell_type": "markdown",
   "metadata": {},
   "source": [
    "импортируем функцию, которая разобъет данные (матрицу \"объект-признак\" и массив со значениями целевой переменной) на 4 части:\n",
    "\n",
    "- X_train - кусочек матрицы \"объекты-признаки\" (для обучения алгоритма)\n",
    "- y_train - массив со значениями целевой переменной (для обучения)\n",
    "\n",
    "\n",
    "- X_test - кусочек матрицы \"объекты-признаки\" (для тестирования и валидации алгоритма)\n",
    "- y_test - массив со значениями целевой переменной (для тестирования и валидации алгоритма)"
   ]
  },
  {
   "cell_type": "code",
   "execution_count": 31,
   "metadata": {},
   "outputs": [],
   "source": [
    "from sklearn.model_selection import train_test_split"
   ]
  },
  {
   "cell_type": "code",
   "execution_count": 80,
   "metadata": {},
   "outputs": [],
   "source": [
    "X_train, X_test, y_train, y_test = train_test_split(X, y, random_state=42) # создали переменные, разделили данные"
   ]
  },
  {
   "cell_type": "markdown",
   "metadata": {},
   "source": [
    "Ridge - это линейная регрессия с L2 регуляризацией [что это?](https://www.youtube.com/watch?v=Q81RR3yKn30). \n",
    "\n",
    "В процессе обучения модель суммирует признаки с каким-то весами, чтобы получить предсказание. Веса подбираются во время обучения и на их значение накладывается ограничение (регуляризация), так чтобы они не получались слишком большими.\n",
    "\n",
    "Давайте попробуем **регрессию** [Lasso](https://scikit-learn.org/stable/modules/generated/sklearn.linear_model.Lasso.html)"
   ]
  },
  {
   "cell_type": "code",
   "execution_count": 81,
   "metadata": {},
   "outputs": [
    {
     "data": {
      "text/plain": [
       "Ridge(alpha=0.01)"
      ]
     },
     "execution_count": 81,
     "metadata": {},
     "output_type": "execute_result"
    }
   ],
   "source": [
    "# силу регуляризации можно варьировать параметром alpha\n",
    "regressor = Ridge(alpha=0.01) \n",
    "\n",
    "regressor.fit(X_train, y_train)"
   ]
  },
  {
   "cell_type": "markdown",
   "metadata": {},
   "source": [
    "давайте посмотрим на [коэффициенты регрессий](https://statisticsbyjim.com/glossary/regression-coefficient/#:~:text=Regression%20coefficients%20are%20estimates%20of,predictor%20variable%20and%20the%20response.&text=Suppose%20you%20have%20the%20following,and%20%2B5%20is%20the%20constant.)"
   ]
  },
  {
   "cell_type": "code",
   "execution_count": 82,
   "metadata": {},
   "outputs": [
    {
     "data": {
      "text/plain": [
       "[('temp', 1.125430241959558),\n",
       " ('humidity', 1.0378178187722324),\n",
       " ('wind_speed', -0.09523175606968713),\n",
       " ('visibility', 5.8325856209279015e-05)]"
      ]
     },
     "execution_count": 82,
     "metadata": {},
     "output_type": "execute_result"
    }
   ],
   "source": [
    "list(zip(weather2.columns, regressor.coef_)) # определились зависимость между целевой переменной и основными признаками"
   ]
  },
  {
   "cell_type": "markdown",
   "metadata": {},
   "source": [
    "Чтобы оценить качество модели, предскажем значения целевой переменной на тестовой выборке и сравним с настоящими значениями."
   ]
  },
  {
   "cell_type": "code",
   "execution_count": 83,
   "metadata": {},
   "outputs": [],
   "source": [
    "preds = regressor.predict(X_test)"
   ]
  },
  {
   "cell_type": "code",
   "execution_count": 84,
   "metadata": {},
   "outputs": [
    {
     "data": {
      "text/plain": [
       "24114"
      ]
     },
     "execution_count": 84,
     "metadata": {},
     "output_type": "execute_result"
    }
   ],
   "source": [
    "len(preds)"
   ]
  },
  {
   "cell_type": "markdown",
   "metadata": {},
   "source": [
    "### оценка результатов алгоритма\n",
    "\n",
    "В качестве метрики будем использовать [среднюю абсолютную ошибку](https://www.youtube.com/watch?v=ZejnwbcU8nw). Она показывает отклонение от правильного ответа в тех же единах измерения\n",
    "\n",
    "*(а вообще есть [разные способы](https://towardsdatascience.com/what-are-the-best-metrics-to-evaluate-your-regression-model-418ca481755b))*"
   ]
  },
  {
   "cell_type": "code",
   "execution_count": 45,
   "metadata": {},
   "outputs": [],
   "source": [
    "from sklearn.metrics import mean_absolute_error, mean_squared_error"
   ]
  },
  {
   "cell_type": "code",
   "execution_count": 85,
   "metadata": {},
   "outputs": [
    {
     "data": {
      "text/plain": [
       "0.851963316304759"
      ]
     },
     "execution_count": 85,
     "metadata": {},
     "output_type": "execute_result"
    }
   ],
   "source": [
    "mean_absolute_error(y_test, preds)"
   ]
  },
  {
   "cell_type": "code",
   "execution_count": 46,
   "metadata": {},
   "outputs": [
    {
     "data": {
      "text/plain": [
       "32.119314104059676"
      ]
     },
     "execution_count": 46,
     "metadata": {},
     "output_type": "execute_result"
    }
   ],
   "source": [
    "mean_squared_error(y_test, preds) # check"
   ]
  },
  {
   "cell_type": "code",
   "execution_count": 86,
   "metadata": {},
   "outputs": [
    {
     "data": {
      "text/plain": [
       "0.9898281362985221"
      ]
     },
     "execution_count": 86,
     "metadata": {},
     "output_type": "execute_result"
    }
   ],
   "source": [
    "from sklearn.metrics import r2_score\n",
    "r2_score(y_test, preds)"
   ]
  },
  {
   "cell_type": "markdown",
   "metadata": {},
   "source": [
    "Т.е. в среднем мы ошибаемся в скорости ветра на 4 км/ч"
   ]
  },
  {
   "cell_type": "code",
   "execution_count": null,
   "metadata": {},
   "outputs": [],
   "source": [
    "# viz\n",
    "\n"
   ]
  },
  {
   "cell_type": "markdown",
   "metadata": {},
   "source": [
    "Попробуем другие алгоритмы."
   ]
  },
  {
   "cell_type": "markdown",
   "metadata": {},
   "source": [
    "Иногда бывает полезно [нормализовать](https://en.wikipedia.org/wiki/Normalization_(statistics)) данные (вычесть среднее и разделить на стандартное отклонение). После нормализации среднее всех колонок будет равно 0, а стандартное отклонение 1. Это позволяет исправить ситуацию, когда признаки представлены в разных единацах измерения. \n",
    "Для этого используется StandardScaler. "
   ]
  },
  {
   "cell_type": "code",
   "execution_count": null,
   "metadata": {},
   "outputs": [],
   "source": [
    "from sklearn.preprocessing import StandardScaler"
   ]
  },
  {
   "cell_type": "code",
   "execution_count": null,
   "metadata": {},
   "outputs": [],
   "source": [
    "sc = StandardScaler()\n",
    "X_train, X_test, y_train, y_test = train_test_split(sc.fit_transform(X), y, random_state=42)"
   ]
  },
  {
   "cell_type": "markdown",
   "metadata": {},
   "source": [
    "До стандартизации:"
   ]
  },
  {
   "cell_type": "code",
   "execution_count": null,
   "metadata": {},
   "outputs": [],
   "source": [
    "list(X[0])"
   ]
  },
  {
   "cell_type": "markdown",
   "metadata": {},
   "source": [
    "После:"
   ]
  },
  {
   "cell_type": "code",
   "execution_count": null,
   "metadata": {},
   "outputs": [],
   "source": [
    "list(sc.fit_transform(X)[0])"
   ]
  },
  {
   "cell_type": "markdown",
   "metadata": {},
   "source": [
    "теперь с данными удобнее работать"
   ]
  },
  {
   "cell_type": "code",
   "execution_count": 77,
   "metadata": {},
   "outputs": [
    {
     "name": "stdout",
     "output_type": "stream",
     "text": [
      "4.143296414103404\n",
      "0.3126308167920496\n"
     ]
    }
   ],
   "source": [
    "regressor = Lasso(alpha=0.001)\n",
    "regressor.fit(X_train, y_train)\n",
    "preds = regressor.predict(X_test)\n",
    "\n",
    "\n",
    "print(mean_absolute_error(y_test, preds))\n",
    "print(r2_score(y_test, preds))"
   ]
  },
  {
   "cell_type": "code",
   "execution_count": null,
   "metadata": {},
   "outputs": [],
   "source": [
    "# добавим параметр нормализации\n",
    "\n",
    "regressor = Lasso(alpha=0.1) # попробуйте его поменять\n",
    "regressor.fit(X_train, y_train)\n",
    "preds = regressor.predict(X_test)\n",
    "mean_absolute_error(y_test, preds)"
   ]
  },
  {
   "cell_type": "markdown",
   "metadata": {},
   "source": [
    "Lasso - линейная регрессия с L1 регуляризацией. Она немного медленее Ridge и обычно работает немного хуже, но она позволяет проводить отбор признаков."
   ]
  },
  {
   "cell_type": "code",
   "execution_count": null,
   "metadata": {},
   "outputs": [],
   "source": [
    "regressor = Lasso(alpha=1)\n",
    "regressor.fit(X_train, y_train)\n",
    "preds = regressor.predict(X_test)\n",
    "mean_absolute_error(y_test, preds)"
   ]
  },
  {
   "cell_type": "code",
   "execution_count": null,
   "metadata": {},
   "outputs": [],
   "source": [
    "list(zip(weather.columns, regressor.coef_))"
   ]
  },
  {
   "cell_type": "markdown",
   "metadata": {},
   "source": [
    "Такая модель использует для предсказания только влажность. В реальной задаче, нулевые признаки можно выбросить, для того, чтобы упросить модель."
   ]
  }
 ],
 "metadata": {
  "kernelspec": {
   "display_name": "Python 3",
   "language": "python",
   "name": "python3"
  },
  "language_info": {
   "codemirror_mode": {
    "name": "ipython",
    "version": 3
   },
   "file_extension": ".py",
   "mimetype": "text/x-python",
   "name": "python",
   "nbconvert_exporter": "python",
   "pygments_lexer": "ipython3",
   "version": "3.8.2"
  }
 },
 "nbformat": 4,
 "nbformat_minor": 4
}
